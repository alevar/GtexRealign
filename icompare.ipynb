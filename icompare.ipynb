{
 "cells": [
  {
   "cell_type": "code",
   "execution_count": 3,
   "metadata": {
    "scrolled": true
   },
   "outputs": [
    {
     "name": "stdout",
     "output_type": "stream",
     "text": [
      "total number in reference: 342260\n",
      "total number inferred: 258049\n",
      "number of true positives: 242669\n",
      "number of false positives: 15380\n",
      "number of false negatives: 99591\n",
      "sensitivity: 0.7090194588909017\n"
     ]
    }
   ],
   "source": [
    "import pandas as pd\n",
    "import numpy as np\n",
    "import argparse\n",
    "import sys\n",
    "import os\n",
    "\n",
    "gff=\"./ref.intron.gff\"\n",
    "intron=\"def_to_ref.intron.gff\"\n",
    "\n",
    "gff3cols=[\"seqid\",\"source\",\"type\",\"start\",\"end\",\"score\",\"strand\",\"phase\",\"attributes\"]\n",
    "ref=pd.read_csv(gff,sep=\"\\t\",names=gff3cols,comment=\"#\")\n",
    "df=pd.read_csv(intron,sep=\"\\t\",names=gff3cols,comment=\"#\")\n",
    "ref[\"id\"]=ref[\"seqid\"]+\":\"+ref[\"strand\"]+\"@\"+ref[\"start\"].astype(str)+\"-\"+ref[\"end\"].astype(str)\n",
    "df[\"id\"]=df[\"seqid\"]+\":\"+df[\"strand\"]+\"@\"+df[\"start\"].astype(str)+\"-\"+df[\"end\"].astype(str)\n",
    "\n",
    "df.drop_duplicates(\"id\",inplace=True)\n",
    "df.reset_index(drop=True)\n",
    "ref.drop_duplicates(\"id\",inplace=True)\n",
    "ref.reset_index(drop=True)\n",
    "\n",
    "tref=len(ref)\n",
    "print(\"total number in reference: \"+str(tref))\n",
    "tdf=len(df)\n",
    "print(\"total number inferred: \"+str(tdf))\n",
    "ref=ref.merge(df[[\"id\"]],on=\"id\",how=\"outer\",indicator=True)\n",
    "\n",
    "tp=len(set(list(ref[ref[\"_merge\"]==\"both\"][\"id\"])))\n",
    "print(\"number of true positives: \"+str(tp))\n",
    "\n",
    "fp=len(set(list(ref[ref[\"_merge\"]==\"right_only\"][\"id\"])))\n",
    "print(\"number of false positives: \"+str(fp))\n",
    "\n",
    "fn=len(set(list(ref[ref[\"_merge\"]==\"left_only\"][\"id\"])))\n",
    "print(\"number of false negatives: \"+str(fn))\n",
    "\n",
    "print(\"sensitivity: \"+str(tp/(tp+fn)))"
   ]
  },
  {
   "cell_type": "code",
   "execution_count": 4,
   "metadata": {
    "scrolled": true
   },
   "outputs": [
    {
     "name": "stdout",
     "output_type": "stream",
     "text": [
      "total number in ref2erence: 342260\n",
      "total number inferred: 264131\n",
      "number of true positives: 242903\n",
      "number of false positives: 21228\n",
      "number of false negatives: 99357\n",
      "sensitivity: 0.7097031496523111\n"
     ]
    }
   ],
   "source": [
    "gff=\"./ref.intron.gff\"\n",
    "intron=\"with_to_ref5.intron.gff\"\n",
    "\n",
    "gff3cols=[\"seqid\",\"source\",\"type\",\"start\",\"end\",\"score\",\"strand\",\"phase\",\"attributes\"]\n",
    "ref2=pd.read_csv(gff,sep=\"\\t\",names=gff3cols,comment=\"#\")\n",
    "df2=pd.read_csv(intron,sep=\"\\t\",names=gff3cols,comment=\"#\")\n",
    "ref2[\"id\"]=ref2[\"seqid\"]+\":\"+ref2[\"strand\"]+\"@\"+ref2[\"start\"].astype(str)+\"-\"+ref2[\"end\"].astype(str)\n",
    "df2[\"id\"]=df2[\"seqid\"]+\":\"+df2[\"strand\"]+\"@\"+df2[\"start\"].astype(str)+\"-\"+df2[\"end\"].astype(str)\n",
    "\n",
    "df2.drop_duplicates(\"id\",inplace=True)\n",
    "df2.reset_index(drop=True)\n",
    "ref2.drop_duplicates(\"id\",inplace=True)\n",
    "ref2.reset_index(drop=True)\n",
    "\n",
    "tref2=len(ref2)\n",
    "print(\"total number in reference: \"+str(tref2))\n",
    "tdf2=len(df2)\n",
    "print(\"total number inferred: \"+str(tdf2))\n",
    "ref2=ref2.merge(df2[[\"id\"]],on=\"id\",how=\"outer\",indicator=True)\n",
    "\n",
    "tp=len(set(list(ref2[ref2[\"_merge\"]==\"both\"][\"id\"])))\n",
    "print(\"number of true positives: \"+str(tp))\n",
    "\n",
    "fp=len(set(list(ref2[ref2[\"_merge\"]==\"right_only\"][\"id\"])))\n",
    "print(\"number of false positives: \"+str(fp))\n",
    "\n",
    "fn=len(set(list(ref2[ref2[\"_merge\"]==\"left_only\"][\"id\"])))\n",
    "print(\"number of false negatives: \"+str(fn))\n",
    "\n",
    "print(\"sensitivity: \"+str(tp/(tp+fn)))"
   ]
  },
  {
   "cell_type": "code",
   "execution_count": 5,
   "metadata": {},
   "outputs": [
    {
     "name": "stdout",
     "output_type": "stream",
     "text": [
      "total number in ref2erence: 342260\n",
      "total number inferred: 263634\n",
      "number of true positives: 242474\n",
      "number of false positives: 21160\n",
      "number of false negatives: 99786\n",
      "sensitivity: 0.7084497165897271\n"
     ]
    }
   ],
   "source": [
    "gff=\"./ref.intron.gff\"\n",
    "intron=\"with_to_ref30.intron.gff\"\n",
    "\n",
    "gff3cols=[\"seqid\",\"source\",\"type\",\"start\",\"end\",\"score\",\"strand\",\"phase\",\"attributes\"]\n",
    "ref2=pd.read_csv(gff,sep=\"\\t\",names=gff3cols,comment=\"#\")\n",
    "df2=pd.read_csv(intron,sep=\"\\t\",names=gff3cols,comment=\"#\")\n",
    "ref2[\"id\"]=ref2[\"seqid\"]+\":\"+ref2[\"strand\"]+\"@\"+ref2[\"start\"].astype(str)+\"-\"+ref2[\"end\"].astype(str)\n",
    "df2[\"id\"]=df2[\"seqid\"]+\":\"+df2[\"strand\"]+\"@\"+df2[\"start\"].astype(str)+\"-\"+df2[\"end\"].astype(str)\n",
    "\n",
    "df2.drop_duplicates(\"id\",inplace=True)\n",
    "df2.reset_index(drop=True)\n",
    "ref2.drop_duplicates(\"id\",inplace=True)\n",
    "ref2.reset_index(drop=True)\n",
    "\n",
    "tref2=len(ref2)\n",
    "print(\"total number in reference: \"+str(tref2))\n",
    "tdf2=len(df2)\n",
    "print(\"total number inferred: \"+str(tdf2))\n",
    "ref2=ref2.merge(df2[[\"id\"]],on=\"id\",how=\"outer\",indicator=True)\n",
    "\n",
    "tp=len(set(list(ref2[ref2[\"_merge\"]==\"both\"][\"id\"])))\n",
    "print(\"number of true positives: \"+str(tp))\n",
    "\n",
    "fp=len(set(list(ref2[ref2[\"_merge\"]==\"right_only\"][\"id\"])))\n",
    "print(\"number of false positives: \"+str(fp))\n",
    "\n",
    "fn=len(set(list(ref2[ref2[\"_merge\"]==\"left_only\"][\"id\"])))\n",
    "print(\"number of false negatives: \"+str(fn))\n",
    "\n",
    "print(\"sensitivity: \"+str(tp/(tp+fn)))"
   ]
  },
  {
   "cell_type": "code",
   "execution_count": 6,
   "metadata": {
    "scrolled": true
   },
   "outputs": [
    {
     "name": "stdout",
     "output_type": "stream",
     "text": [
      "total number in reference: 342260\n",
      "total number inferred: 249030\n",
      "number of true positives: 216960\n",
      "number of false positives: 32070\n",
      "number of false negatives: 125300\n",
      "sensitivity: 0.6339040495529714\n"
     ]
    }
   ],
   "source": [
    "gff=\"./ref.intron.gff\"\n",
    "intron=\"hisat_to_ref.intron.gff\"\n",
    "\n",
    "gff3cols=[\"seqid\",\"source\",\"type\",\"start\",\"end\",\"score\",\"strand\",\"phase\",\"attributes\"]\n",
    "ref2=pd.read_csv(gff,sep=\"\\t\",names=gff3cols,comment=\"#\")\n",
    "df2=pd.read_csv(intron,sep=\"\\t\",names=gff3cols,comment=\"#\")\n",
    "ref2[\"id\"]=ref2[\"seqid\"]+\":\"+ref2[\"strand\"]+\"@\"+ref2[\"start\"].astype(str)+\"-\"+ref2[\"end\"].astype(str)\n",
    "df2[\"id\"]=df2[\"seqid\"]+\":\"+df2[\"strand\"]+\"@\"+df2[\"start\"].astype(str)+\"-\"+df2[\"end\"].astype(str)\n",
    "\n",
    "df2.drop_duplicates(\"id\",inplace=True)\n",
    "df2.reset_index(drop=True)\n",
    "ref2.drop_duplicates(\"id\",inplace=True)\n",
    "ref2.reset_index(drop=True)\n",
    "\n",
    "tref2=len(ref2)\n",
    "print(\"total number in reference: \"+str(tref2))\n",
    "tdf2=len(df2)\n",
    "print(\"total number inferred: \"+str(tdf2))\n",
    "ref2=ref2.merge(df2[[\"id\"]],on=\"id\",how=\"outer\",indicator=True)\n",
    "\n",
    "tp=len(set(list(ref2[ref2[\"_merge\"]==\"both\"][\"id\"])))\n",
    "print(\"number of true positives: \"+str(tp))\n",
    "\n",
    "fp=len(set(list(ref2[ref2[\"_merge\"]==\"right_only\"][\"id\"])))\n",
    "print(\"number of false positives: \"+str(fp))\n",
    "\n",
    "fn=len(set(list(ref2[ref2[\"_merge\"]==\"left_only\"][\"id\"])))\n",
    "print(\"number of false negatives: \"+str(fn))\n",
    "\n",
    "print(\"sensitivity: \"+str(tp/(tp+fn)))"
   ]
  }
 ],
 "metadata": {
  "kernelspec": {
   "display_name": "Python 3",
   "language": "python",
   "name": "python3"
  },
  "language_info": {
   "codemirror_mode": {
    "name": "ipython",
    "version": 3
   },
   "file_extension": ".py",
   "mimetype": "text/x-python",
   "name": "python",
   "nbconvert_exporter": "python",
   "pygments_lexer": "ipython3",
   "version": "3.6.7"
  }
 },
 "nbformat": 4,
 "nbformat_minor": 2
}
